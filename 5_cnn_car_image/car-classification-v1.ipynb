{
 "cells": [
  {
   "cell_type": "markdown",
   "metadata": {},
   "source": [
    "```\n",
    "# How to improve my score, review of important issue\n",
    "# Image Augmentation examples\n",
    "# How to improve 0.1 point using simple ensemble\n",
    "# Images that fail to classify on the testset\n",
    "```\n",
    "\n",
    "- 커널 코드 참고\n",
    "```\n",
    "    # Daehun Gwak, Keras, How to use pretrained model?\n",
    "    # Jang, [3rd ML Month] Car Model Classification (Xception)\n",
    "```\n",
    "- 성능개선을 위한 중요한 사항\n",
    "```\n",
    "    - train / test 세트 분할시 stratfy 적용\n",
    "    - 이미지 전처리, 스케일링 적용 (rescale=1./255) \n",
    "    - image augmentation 단계에서 필터/노이즈 적용 -> ImageDataGenerator에 함수적용\n",
    "    - ReduceLROnPlateau, EarlyStopping 파라메타 조정\n",
    "    - 10개 모델 앙상블 (0.01 상승)\n",
    "    - 테스트셋에서 잘 분류되지 않는 이미지들 확인 -> 뒷면,윗면,표면반사,표면무늬\n",
    "    - 테스트셋에서 잘분류된 이미지들을 학습셋으로 사용\n",
    "    - 5 kfold, 교차검증 가능한가?\n",
    "```"
   ]
  },
  {
   "cell_type": "code",
   "execution_count": 1,
   "metadata": {
    "_cell_guid": "b1076dfc-b9ad-4769-8c92-a6c4dae69d19",
    "_uuid": "8f2839f25d086af736a60e9eeb907d3b93b6e0e5"
   },
   "outputs": [
    {
     "name": "stdout",
     "output_type": "stream",
     "text": [
      "['test.csv', 'test', 'train', 'train.csv', 'class.csv', 'sample_submission.csv']\n"
     ]
    }
   ],
   "source": [
    "# This Python 3 environment comes with many helpful analytics libraries installed\n",
    "# It is defined by the kaggle/python docker image: https://github.com/kaggle/docker-python\n",
    "# For example, here's several helpful packages to load in \n",
    "\n",
    "import numpy as np # linear algebra\n",
    "import pandas as pd # data processing, CSV file I/O (e.g. pd.read_csv)\n",
    "\n",
    "# Input data files are available in the \"../input/\" directory.\n",
    "# For example, running this (by clicking run or pressing Shift+Enter) will list the files in the input directory\n",
    "\n",
    "import os\n",
    "print(os.listdir(\"../input\"))\n",
    "\n",
    "# Any results you write to the current directory are saved as output."
   ]
  },
  {
   "cell_type": "code",
   "execution_count": 2,
   "metadata": {},
   "outputs": [
    {
     "name": "stderr",
     "output_type": "stream",
     "text": [
      "Using TensorFlow backend.\n"
     ]
    }
   ],
   "source": [
    "import warnings\n",
    "import pandas as pd\n",
    "from tqdm import tqdm\n",
    "import matplotlib.pylab as plt\n",
    "import PIL\n",
    "from keras import backend as K\n",
    "from keras.preprocessing.image import ImageDataGenerator\n",
    "from keras.applications import Xception\n",
    "from keras.callbacks import EarlyStopping, ReduceLROnPlateau, ModelCheckpoint\n",
    "from keras import layers, models, optimizers\n",
    "\n",
    "warnings.filterwarnings('ignore')\n",
    "\n",
    "image_size = 224"
   ]
  },
  {
   "cell_type": "code",
   "execution_count": 3,
   "metadata": {},
   "outputs": [],
   "source": [
    "# 이미지 폴더 경로\n",
    "DATA_PATH = '../input/'\n",
    "\n",
    "TRAIN_IMG_PATH = os.path.join(DATA_PATH, 'train')\n",
    "TEST_IMG_PATH = os.path.join(DATA_PATH, 'test')\n",
    "\n",
    "# CSV 파일 경로\n",
    "df_train = pd.read_csv(os.path.join(DATA_PATH, 'train.csv'))\n",
    "df_test = pd.read_csv(os.path.join(DATA_PATH, 'test.csv'))\n",
    "df_class = pd.read_csv(os.path.join(DATA_PATH, 'class.csv'))"
   ]
  },
  {
   "cell_type": "code",
   "execution_count": 4,
   "metadata": {},
   "outputs": [],
   "source": [
    "def crop_boxing_img(img_name, margin=16, size=(image_size, image_size)):\n",
    "    if img_name.split('_')[0] == 'train':\n",
    "        PATH = TRAIN_IMG_PATH\n",
    "        data = df_train\n",
    "    else:\n",
    "        PATH = TEST_IMG_PATH\n",
    "        data = df_test\n",
    "\n",
    "    img = PIL.Image.open(os.path.join(PATH, img_name))\n",
    "    pos = data.loc[data[\"img_file\"] == img_name, \\\n",
    "                   ['bbox_x1', 'bbox_y1', 'bbox_x2', 'bbox_y2']].values.reshape(-1)\n",
    "\n",
    "    width, height = img.size\n",
    "    x1 = max(0, pos[0] - margin)\n",
    "    y1 = max(0, pos[1] - margin)\n",
    "    x2 = min(pos[2] + margin, width)\n",
    "    y2 = min(pos[3] + margin, height)\n",
    "\n",
    "    return img.crop((x1, y1, x2, y2)).resize(size)"
   ]
  },
  {
   "cell_type": "code",
   "execution_count": 5,
   "metadata": {},
   "outputs": [],
   "source": [
    "TRAIN_CROP_PATH = \"./train_crop\"\n",
    "TEST_CROP_PATH = \"./test_crop\""
   ]
  },
  {
   "cell_type": "code",
   "execution_count": 6,
   "metadata": {},
   "outputs": [],
   "source": [
    "!mkdir {TRAIN_CROP_PATH}"
   ]
  },
  {
   "cell_type": "code",
   "execution_count": 7,
   "metadata": {},
   "outputs": [],
   "source": [
    "!mkdir {TEST_CROP_PATH}"
   ]
  },
  {
   "cell_type": "code",
   "execution_count": 8,
   "metadata": {},
   "outputs": [],
   "source": [
    "for i, row in df_train.iterrows():\n",
    "    cropped = crop_boxing_img(row['img_file'])\n",
    "    cropped.save(f\"{TRAIN_CROP_PATH}/{row['img_file']}\")\n",
    "    \n",
    "for i, row in df_test.iterrows():\n",
    "    cropped = crop_boxing_img(row['img_file'])\n",
    "    cropped.save(f\"{TEST_CROP_PATH}/{row['img_file']}\")"
   ]
  },
  {
   "cell_type": "code",
   "execution_count": 9,
   "metadata": {},
   "outputs": [
    {
     "name": "stdout",
     "output_type": "stream",
     "text": [
      "(8991, 2)\n",
      "(999, 2)\n",
      "(6150, 1)\n"
     ]
    }
   ],
   "source": [
    "from sklearn.model_selection import train_test_split\n",
    "\n",
    "df_train[\"class\"] = df_train[\"class\"].astype('str')\n",
    "\n",
    "df_train = df_train[['img_file', 'class']]\n",
    "df_test = df_test[['img_file']]\n",
    "\n",
    "its = np.arange(df_train.shape[0])\n",
    "train_idx, val_idx = train_test_split(its, train_size = 0.9, \n",
    "                                      random_state=0,\n",
    "                                      shuffle= True, \n",
    "                                      stratify= df_train['class'])\n",
    "# stratify를 해주는게 좋다. class의 분포를 균등하게\n",
    "X_train = df_train.iloc[train_idx, :]\n",
    "X_val = df_train.iloc[val_idx, :]\n",
    "\n",
    "print(X_train.shape)\n",
    "print(X_val.shape)\n",
    "print(df_test.shape)"
   ]
  },
  {
   "cell_type": "code",
   "execution_count": null,
   "metadata": {},
   "outputs": [],
   "source": []
  },
  {
   "cell_type": "code",
   "execution_count": 10,
   "metadata": {},
   "outputs": [],
   "source": [
    "# image augmentation에 사용할 함수\n",
    "\n",
    "from skimage.transform import warp, AffineTransform, ProjectiveTransform\n",
    "from skimage.exposure import equalize_adapthist, equalize_hist, rescale_intensity, adjust_gamma, adjust_log, adjust_sigmoid\n",
    "from skimage.filters import gaussian\n",
    "from skimage.util import random_noise\n",
    "import random\n",
    "\n",
    "def randRange(a, b):\n",
    "    return np.random.rand() * (b - a) + a\n",
    "\n",
    "def randomCrop(im):\n",
    "    '''\n",
    "    croping the image in the center from a random margin from the borders\n",
    "    '''\n",
    "    margin = 1/10\n",
    "    start = [int(randRange(0, im.shape[0] * margin)),\n",
    "             int(randRange(0, im.shape[1] * margin))]\n",
    "    end = [int(randRange(im.shape[0] * (1-margin), im.shape[0])), \n",
    "           int(randRange(im.shape[1] * (1-margin), im.shape[1]))]\n",
    "    return im[start[0]:end[0], start[1]:end[1]]\n",
    "\n",
    "def randomIntensity(im):\n",
    "    '''\n",
    "    rescales the intesity of the image to random interval of image intensity distribution\n",
    "    '''\n",
    "    return rescale_intensity(im,\n",
    "                             in_range=tuple(np.percentile(im, (randRange(0,10), randRange(90,100)))),\n",
    "                             out_range=tuple(np.percentile(im, (randRange(0,10), randRange(90,100)))))\n",
    "\n",
    "def randomGamma(im):\n",
    "    '''\n",
    "    Gamma filter for contrast adjustment with random gamma value.\n",
    "    '''\n",
    "    return adjust_gamma(im, gamma=randRange(0.5, 1.5))\n",
    "\n",
    "def randomGaussian(im):\n",
    "    '''\n",
    "    Gaussian filter for bluring the image with random variance.\n",
    "    '''\n",
    "    return gaussian(im, sigma=randRange(0, 5))\n",
    "\n",
    "def randomFilter(im):\n",
    "    '''\n",
    "    randomly selects an exposure filter from histogram equalizers, contrast adjustments, and intensity rescaler and applys it on the input image.\n",
    "    filters include: equalize_adapthist, equalize_hist, rescale_intensity, adjust_gamma, adjust_log, adjust_sigmoid, gaussian\n",
    "    '''\n",
    "    Filters = [equalize_adapthist, equalize_hist, adjust_log, adjust_sigmoid, randomGaussian, randomIntensity, randomGamma]\n",
    "    filt = random.choice(Filters)\n",
    "    return filt(im)\n",
    "\n",
    "def randomNoise(im):\n",
    "    '''\n",
    "    random gaussian noise with random variance.\n",
    "    '''\n",
    "    var = randRange(0.001, 0.01)\n",
    "    return random_noise(im, var=var)\n",
    "\n",
    "def noFilter(im):\n",
    "    return im\n",
    "\n",
    "def augment(im, Steps= [noFilter, randomFilter, randomNoise]):\n",
    "    \n",
    "    im /= 255. # 추가    \n",
    "    i= np.random.randint(3)\n",
    "    step = Steps[i]\n",
    "    im = step(im)\n",
    "    return im\n"
   ]
  },
  {
   "cell_type": "code",
   "execution_count": 11,
   "metadata": {},
   "outputs": [],
   "source": [
    "import keras \n",
    "\n",
    "from keras import models\n",
    "from keras import layers\n",
    "from keras import optimizers\n",
    "from keras.preprocessing.image import ImageDataGenerator"
   ]
  },
  {
   "cell_type": "code",
   "execution_count": 12,
   "metadata": {},
   "outputs": [],
   "source": [
    "train_datagen = ImageDataGenerator(\n",
    "    rotation_range=10,\n",
    "    width_shift_range=0.1,\n",
    "    height_shift_range=0.2,\n",
    "    zoom_range=0.1,\n",
    "    horizontal_flip=True,\n",
    "    fill_mode='nearest',  \n",
    "    preprocessing_function=augment)\n",
    "\n",
    "valid_datagen = ImageDataGenerator(rescale=1./255)\n",
    "test_datagen = ImageDataGenerator(rescale=1./255)"
   ]
  },
  {
   "cell_type": "code",
   "execution_count": 13,
   "metadata": {},
   "outputs": [
    {
     "name": "stdout",
     "output_type": "stream",
     "text": [
      "Found 8991 validated image filenames belonging to 196 classes.\n",
      "Found 999 validated image filenames belonging to 196 classes.\n",
      "Found 6150 validated image filenames.\n"
     ]
    }
   ],
   "source": [
    "img_size = (image_size, image_size)\n",
    "nb_train_samples = len(X_train)\n",
    "nb_validation_samples = len(X_val)\n",
    "nb_test_samples = len(df_test)\n",
    "epochs = 3 # 실제 학습시 epoch는 100이상\n",
    "batch_size = 64\n",
    "\n",
    "\n",
    "train_generator = train_datagen.flow_from_dataframe(\n",
    "    dataframe = X_train, \n",
    "    directory = TRAIN_CROP_PATH,\n",
    "    x_col = 'img_file',\n",
    "    y_col = 'class',\n",
    "    target_size = img_size,\n",
    "    color_mode ='rgb',\n",
    "    class_mode ='categorical',\n",
    "    batch_size =batch_size,\n",
    "    shuffle =True\n",
    ")\n",
    "\n",
    "validation_generator = valid_datagen.flow_from_dataframe(\n",
    "    dataframe = X_val, \n",
    "    directory = TRAIN_CROP_PATH,\n",
    "    x_col ='img_file',\n",
    "    y_col ='class',\n",
    "    target_size = img_size,\n",
    "    color_mode ='rgb',\n",
    "    class_mode ='categorical',\n",
    "    batch_size =batch_size,\n",
    "    shuffle =False\n",
    ")\n",
    "\n",
    "test_generator = test_datagen.flow_from_dataframe(\n",
    "    dataframe = df_test,\n",
    "    directory = TEST_CROP_PATH,\n",
    "    x_col ='img_file',\n",
    "    y_col =None,\n",
    "    target_size = img_size,\n",
    "    color_mode ='rgb',\n",
    "    class_mode =None,\n",
    "    batch_size =batch_size,\n",
    "    shuffle = False\n",
    ")\n"
   ]
  },
  {
   "cell_type": "code",
   "execution_count": 14,
   "metadata": {},
   "outputs": [
    {
     "ename": "SyntaxError",
     "evalue": "invalid syntax (<ipython-input-14-e71b2113fa24>, line 1)",
     "output_type": "error",
     "traceback": [
      "\u001b[0;36m  File \u001b[0;32m\"<ipython-input-14-e71b2113fa24>\"\u001b[0;36m, line \u001b[0;32m1\u001b[0m\n\u001b[0;31m    augmentation 처리된 이미지들을 확인할 수 있다.\u001b[0m\n\u001b[0m                   ^\u001b[0m\n\u001b[0;31mSyntaxError\u001b[0m\u001b[0;31m:\u001b[0m invalid syntax\n"
     ]
    }
   ],
   "source": [
    "augmentation 처리된 이미지들을 확인할 수 있다.\n",
    "\n",
    "for data_batch, labels_batch in train_generator:\n",
    "    print('배치 데이터 크기:', data_batch.shape)\n",
    "    print('배치 레이블 크기:', labels_batch.shape)\n",
    "    break\n",
    "    \n",
    "import matplotlib.pyplot as plt\n",
    "from keras.preprocessing import image\n",
    "\n",
    "for i in range(5):    \n",
    "    plt.imshow(image.array_to_img(data_batch[i]))\n",
    "    plt.show()\n",
    "       "
   ]
  },
  {
   "cell_type": "code",
   "execution_count": 15,
   "metadata": {},
   "outputs": [
    {
     "name": "stdout",
     "output_type": "stream",
     "text": [
      "Downloading data from https://github.com/fchollet/deep-learning-models/releases/download/v0.4/xception_weights_tf_dim_ordering_tf_kernels_notop.h5\n",
      "83689472/83683744 [==============================] - 1s 0us/step\n"
     ]
    }
   ],
   "source": [
    "from keras.applications.xception import Xception\n",
    "from keras.callbacks import EarlyStopping, ReduceLROnPlateau, ModelCheckpoint\n",
    "from keras.layers import GlobalAveragePooling2D, Dense\n",
    "\n",
    "keras.backend.clear_session()\n",
    "\n",
    "base_model = Xception(weights = 'imagenet', include_top= False, \n",
    "                 input_shape= (image_size,image_size,3))\n",
    "\n",
    "model = models.Sequential()\n",
    "model.add(base_model)\n",
    "model.add(layers.GlobalAveragePooling2D())\n",
    "model.add(layers.Dense(1024, activation='relu'))\n",
    "model.add(layers.Dropout(0.5))\n",
    "model.add(layers.Dense(196, activation='softmax'))\n"
   ]
  },
  {
   "cell_type": "code",
   "execution_count": 16,
   "metadata": {},
   "outputs": [],
   "source": [
    "model.compile(loss = 'categorical_crossentropy',\n",
    "             optimizer = keras.optimizers.adamax(lr=0.001),\n",
    "             metrics=['accuracy'])\n",
    "\n",
    "# model.compile(loss = 'categorical_crossentropy',\n",
    "#              optimizer = 'adam',\n",
    "#              metrics=['accuracy'])"
   ]
  },
  {
   "cell_type": "code",
   "execution_count": 17,
   "metadata": {},
   "outputs": [],
   "source": [
    "lr_reduction = ReduceLROnPlateau(monitor = 'val_loss', # val_acc -> val_loss\n",
    "                                patience = 3, # 4\n",
    "                                verbose = 1,\n",
    "                                factor = 0.5, #0.5\n",
    "                                min_lr = 0.00001)\n",
    "\n",
    "es = EarlyStopping(monitor = 'val_acc', \n",
    "                  min_delta = 0, # 개선되고 있다고 판단하기 위한 최소 변화량\n",
    "                  patience = 6, # 개선 없는 epoch을 얼마나 기다릴지\n",
    "                  verbose = 1\n",
    "                  )\n"
   ]
  },
  {
   "cell_type": "code",
   "execution_count": 18,
   "metadata": {},
   "outputs": [],
   "source": [
    "# model_path = '../model/'\n",
    "# if not os.path.exists(model_path):\n",
    "#     os.mkdir(model_path)\n",
    "model_path = 'best_model.hdf5'\n",
    "\n",
    "mc = ModelCheckpoint(filepath=model_path,\n",
    "                     monitor='val_loss',\n",
    "                     save_best_only=True)"
   ]
  },
  {
   "cell_type": "code",
   "execution_count": 19,
   "metadata": {},
   "outputs": [],
   "source": [
    "def get_steps(num_samples, batch_size):\n",
    "    if (num_samples % batch_size) > 0 :\n",
    "        return (num_samples // batch_size) + 1\n",
    "    else :\n",
    "        return num_samples // batch_size"
   ]
  },
  {
   "cell_type": "code",
   "execution_count": 20,
   "metadata": {},
   "outputs": [
    {
     "name": "stdout",
     "output_type": "stream",
     "text": [
      "Epoch 1/3\n",
      "141/141 [==============================] - 193s 1s/step - loss: 5.2792 - acc: 0.0044 - val_loss: 5.2777 - val_acc: 0.0080\n",
      "Epoch 2/3\n",
      "141/141 [==============================] - 172s 1s/step - loss: 5.2778 - acc: 0.0079 - val_loss: 5.2772 - val_acc: 0.0080\n",
      "Epoch 3/3\n",
      "141/141 [==============================] - 171s 1s/step - loss: 5.2773 - acc: 0.0083 - val_loss: 5.2768 - val_acc: 0.0080\n"
     ]
    }
   ],
   "source": [
    "history = model.fit_generator(\n",
    "    train_generator,\n",
    "    steps_per_epoch = get_steps(nb_train_samples, batch_size),\n",
    "    epochs = epochs,\n",
    "    validation_data = validation_generator,\n",
    "    validation_steps = get_steps(nb_validation_samples, batch_size),\n",
    "    callbacks = [es, lr_reduction, mc],\n",
    "    verbose=1\n",
    ")\n"
   ]
  },
  {
   "cell_type": "code",
   "execution_count": 21,
   "metadata": {},
   "outputs": [
    {
     "data": {
      "image/png": "[encoded data removed]",
      "text/plain": [
       "<Figure size 432x288 with 1 Axes>"
      ]
     },
     "metadata": {
      "needs_background": "light"
     },
     "output_type": "display_data"
    },
    {
     "data": {
      "image/png": "[encoded data removed]",
      "text/plain": [
       "<Figure size 432x288 with 1 Axes>"
      ]
     },
     "metadata": {
      "needs_background": "light"
     },
     "output_type": "display_data"
    }
   ],
   "source": [
    "acc = history.history['acc']\n",
    "val_acc = history.history['val_acc']\n",
    "loss = history.history['loss']\n",
    "val_loss = history.history['val_loss']\n",
    "\n",
    "epochs = range(1, len(acc) + 1)\n",
    "\n",
    "plt.plot(epochs, acc, 'bo', label='Training acc')\n",
    "plt.plot(epochs, val_acc, 'b', label='Validation acc')\n",
    "plt.title('Training and validation accuracy')\n",
    "plt.legend()\n",
    "\n",
    "plt.figure()\n",
    "\n",
    "plt.plot(epochs, loss, 'bo', label='Training loss')\n",
    "plt.plot(epochs, val_loss, 'b', label='Validation loss')\n",
    "plt.title('Training and validation loss')\n",
    "plt.legend()\n",
    "\n",
    "plt.show()"
   ]
  },
  {
   "cell_type": "code",
   "execution_count": 22,
   "metadata": {},
   "outputs": [],
   "source": [
    "!rm -rf *_crop \n",
    "# 캐글 커널 commit을 위해서 생성된 파일들은 모두 지워야함.\n",
    "# output파일이 많으면 commit에러"
   ]
  },
  {
   "cell_type": "code",
   "execution_count": 23,
   "metadata": {},
   "outputs": [],
   "source": [
    "# model.load_weights(model_path)\n",
    "# test_generator.reset()\n",
    "\n",
    "# prediction = model.predict_generator(\n",
    "#     generator=test_generator,\n",
    "#     steps = get_steps(nb_test_samples, batch_size),\n",
    "#     verbose=1\n",
    "# )"
   ]
  },
  {
   "cell_type": "code",
   "execution_count": 24,
   "metadata": {},
   "outputs": [],
   "source": [
    "# predicted_class_indices=np.argmax(prediction, axis=1)\n",
    "\n",
    "# # Generator class dictionary mapping\n",
    "# labels = (train_generator.class_indices)\n",
    "# labels = dict((v,k) for k,v in labels.items())\n",
    "# predictions = [labels[k] for k in predicted_class_indices]\n",
    "\n",
    "# submission = pd.read_csv(os.path.join(DATA_PATH, 'sample_submission.csv'))\n",
    "# submission[\"class\"] = predictions\n",
    "# submission.to_csv(\"submission_190627.csv\", index=False)\n",
    "# submission.head() # [124,  98, 157,  94,  18]"
   ]
  },
  {
   "cell_type": "code",
   "execution_count": 25,
   "metadata": {},
   "outputs": [],
   "source": [
    "# submission.tail() #[91,79,44,50,94]"
   ]
  },
  {
   "cell_type": "code",
   "execution_count": 26,
   "metadata": {},
   "outputs": [],
   "source": [
    "# model.save('xception_190627.h5')"
   ]
  },
  {
   "cell_type": "markdown",
   "metadata": {},
   "source": [
    "<a href=\"submission_190627.csv\"> Download Submission </a> <br>\n",
    "<a href= \"xception_190627.h5\"> Download Model </a>"
   ]
  },
  {
   "cell_type": "code",
   "execution_count": null,
   "metadata": {},
   "outputs": [],
   "source": []
  }
 ],
 "metadata": {
  "kernelspec": {
   "display_name": "Python 3",
   "language": "python",
   "name": "python3"
  },
  "language_info": {
   "codemirror_mode": {
    "name": "ipython",
    "version": 3
   },
   "file_extension": ".py",
   "mimetype": "text/x-python",
   "name": "python",
   "nbconvert_exporter": "python",
   "pygments_lexer": "ipython3",
   "version": "3.6.6"
  }
 },
 "nbformat": 4,
 "nbformat_minor": 1
}
